{
 "cells": [
  {
   "cell_type": "code",
   "execution_count": 2,
   "metadata": {
    "id": "diZyQ0_9fOed"
   },
   "outputs": [],
   "source": [
    "import pandas as pd \n",
    "import numpy as np \n",
    "import matplotlib.pyplot as plt \n",
    "%matplotlib inline"
   ]
  },
  {
   "cell_type": "code",
   "execution_count": 8,
   "metadata": {
    "colab": {
     "base_uri": "https://localhost:8080/",
     "height": 269
    },
    "id": "6tYr_lXGioKm",
    "outputId": "9b25856a-a000-44fe-9ed0-d6098ec7228d"
   },
   "outputs": [
    {
     "data": {
      "text/html": [
       "<div>\n",
       "<style scoped>\n",
       "    .dataframe tbody tr th:only-of-type {\n",
       "        vertical-align: middle;\n",
       "    }\n",
       "\n",
       "    .dataframe tbody tr th {\n",
       "        vertical-align: top;\n",
       "    }\n",
       "\n",
       "    .dataframe thead th {\n",
       "        text-align: right;\n",
       "    }\n",
       "</style>\n",
       "<table border=\"1\" class=\"dataframe\">\n",
       "  <thead>\n",
       "    <tr style=\"text-align: right;\">\n",
       "      <th></th>\n",
       "      <th>spouse_age</th>\n",
       "      <th>typical_weekly_hours_worked</th>\n",
       "      <th>work_days_missed</th>\n",
       "      <th>family_income</th>\n",
       "      <th>age</th>\n",
       "      <th>asthma_still_2.0</th>\n",
       "      <th>asthma_still_10.0</th>\n",
       "      <th>overnight_hospitalization_12m_2</th>\n",
       "      <th>overnight_hospitalization_12m_10</th>\n",
       "      <th>diff_pay_med_bills_12m_2</th>\n",
       "      <th>diff_pay_med_bills_12m_10</th>\n",
       "      <th>SMKEV_A_2</th>\n",
       "      <th>SMKEV_A_10</th>\n",
       "      <th>heart_attack_2</th>\n",
       "      <th>heart_attack_10</th>\n",
       "      <th>cancer_2</th>\n",
       "      <th>cancer_10</th>\n",
       "      <th>ECIGEV_A_2</th>\n",
       "      <th>ECIGEV_A_10</th>\n",
       "      <th>prescription_meds_12m_2</th>\n",
       "      <th>prescription_meds_12m_10</th>\n",
       "      <th>high_blood_pressure_2.0</th>\n",
       "      <th>high_blood_pressure_10.0</th>\n",
       "      <th>chest_pain_2</th>\n",
       "      <th>chest_pain_10</th>\n",
       "      <th>last_visit_doctor_1</th>\n",
       "      <th>last_visit_doctor_2</th>\n",
       "      <th>last_visit_doctor_3</th>\n",
       "      <th>last_visit_doctor_4</th>\n",
       "      <th>last_visit_doctor_5</th>\n",
       "      <th>last_visit_doctor_6</th>\n",
       "      <th>last_visit_doctor_10</th>\n",
       "      <th>AFVET_A_2</th>\n",
       "      <th>AFVET_A_10</th>\n",
       "      <th>takes_value_of_1_if_SPOUSAGETC_A_value_is_NaN_or_in_tiny_category_1</th>\n",
       "      <th>income_from_ss/railroad_retirement_1.0</th>\n",
       "      <th>income_from_ss/railroad_retirement_2.0</th>\n",
       "      <th>income_from_ss/railroad_retirement_7.0</th>\n",
       "      <th>income_from_ss/railroad_retirement_8.0</th>\n",
       "      <th>income_from_ss/railroad_retirement_9.0</th>\n",
       "      <th>...</th>\n",
       "      <th>spouse education_8.0</th>\n",
       "      <th>spouse education_9.0</th>\n",
       "      <th>spouse education_10.0</th>\n",
       "      <th>spouse education_11.0</th>\n",
       "      <th>spouse education_97.0</th>\n",
       "      <th>spouse education_99.0</th>\n",
       "      <th>ERasthma_2.0</th>\n",
       "      <th>ERasthma_10.0</th>\n",
       "      <th>skipped_med_12m_1.0</th>\n",
       "      <th>skipped_med_12m_2.0</th>\n",
       "      <th>skipped_med_12m_10.0</th>\n",
       "      <th>CHOLLAST_A_1</th>\n",
       "      <th>CHOLLAST_A_2</th>\n",
       "      <th>CHOLLAST_A_3</th>\n",
       "      <th>CHOLLAST_A_4</th>\n",
       "      <th>CHOLLAST_A_5</th>\n",
       "      <th>CHOLLAST_A_6</th>\n",
       "      <th>CHOLLAST_A_10</th>\n",
       "      <th>no_health_ins_2</th>\n",
       "      <th>no_health_ins_10</th>\n",
       "      <th>anxiety_2</th>\n",
       "      <th>anxiety_10</th>\n",
       "      <th>asthma_2</th>\n",
       "      <th>asthma_10</th>\n",
       "      <th>have_health_ins_2</th>\n",
       "      <th>have_health_ins_10</th>\n",
       "      <th>high_cholesterol_2.0</th>\n",
       "      <th>high_cholesterol_10.0</th>\n",
       "      <th>alzheimers_2</th>\n",
       "      <th>alzheimers_10</th>\n",
       "      <th>asthma_attack12months_2.0</th>\n",
       "      <th>asthma_attack12months_10.0</th>\n",
       "      <th>usual_place_healthcare_2</th>\n",
       "      <th>usual_place_healthcare_10</th>\n",
       "      <th>depression_2</th>\n",
       "      <th>depression_10</th>\n",
       "      <th>visited_doctor_in_12m_1</th>\n",
       "      <th>pvt_health_ins_2</th>\n",
       "      <th>pvt_health_ins_10</th>\n",
       "      <th>target</th>\n",
       "    </tr>\n",
       "  </thead>\n",
       "  <tbody>\n",
       "    <tr>\n",
       "      <th>0</th>\n",
       "      <td>-6.759123e-16</td>\n",
       "      <td>0.000000</td>\n",
       "      <td>-1.790015e-01</td>\n",
       "      <td>-0.605518</td>\n",
       "      <td>-0.548509</td>\n",
       "      <td>0</td>\n",
       "      <td>0</td>\n",
       "      <td>1</td>\n",
       "      <td>0</td>\n",
       "      <td>0</td>\n",
       "      <td>0</td>\n",
       "      <td>0</td>\n",
       "      <td>0</td>\n",
       "      <td>1</td>\n",
       "      <td>0</td>\n",
       "      <td>1</td>\n",
       "      <td>0</td>\n",
       "      <td>1</td>\n",
       "      <td>0</td>\n",
       "      <td>0</td>\n",
       "      <td>0</td>\n",
       "      <td>1</td>\n",
       "      <td>0</td>\n",
       "      <td>1</td>\n",
       "      <td>0</td>\n",
       "      <td>1</td>\n",
       "      <td>0</td>\n",
       "      <td>0</td>\n",
       "      <td>0</td>\n",
       "      <td>0</td>\n",
       "      <td>0</td>\n",
       "      <td>0</td>\n",
       "      <td>1</td>\n",
       "      <td>0</td>\n",
       "      <td>1</td>\n",
       "      <td>1</td>\n",
       "      <td>0</td>\n",
       "      <td>0</td>\n",
       "      <td>0</td>\n",
       "      <td>0</td>\n",
       "      <td>...</td>\n",
       "      <td>0</td>\n",
       "      <td>0</td>\n",
       "      <td>0</td>\n",
       "      <td>0</td>\n",
       "      <td>0</td>\n",
       "      <td>1</td>\n",
       "      <td>1</td>\n",
       "      <td>0</td>\n",
       "      <td>0</td>\n",
       "      <td>1</td>\n",
       "      <td>0</td>\n",
       "      <td>0</td>\n",
       "      <td>1</td>\n",
       "      <td>0</td>\n",
       "      <td>0</td>\n",
       "      <td>0</td>\n",
       "      <td>0</td>\n",
       "      <td>0</td>\n",
       "      <td>0</td>\n",
       "      <td>0</td>\n",
       "      <td>0</td>\n",
       "      <td>0</td>\n",
       "      <td>0</td>\n",
       "      <td>0</td>\n",
       "      <td>1</td>\n",
       "      <td>0</td>\n",
       "      <td>1</td>\n",
       "      <td>0</td>\n",
       "      <td>1</td>\n",
       "      <td>0</td>\n",
       "      <td>1</td>\n",
       "      <td>0</td>\n",
       "      <td>0</td>\n",
       "      <td>0</td>\n",
       "      <td>0</td>\n",
       "      <td>0</td>\n",
       "      <td>1</td>\n",
       "      <td>1</td>\n",
       "      <td>0</td>\n",
       "      <td>0</td>\n",
       "    </tr>\n",
       "    <tr>\n",
       "      <th>1</th>\n",
       "      <td>-1.012835e+00</td>\n",
       "      <td>0.000000</td>\n",
       "      <td>2.113454e-17</td>\n",
       "      <td>0.029519</td>\n",
       "      <td>-0.494282</td>\n",
       "      <td>1</td>\n",
       "      <td>0</td>\n",
       "      <td>1</td>\n",
       "      <td>0</td>\n",
       "      <td>1</td>\n",
       "      <td>0</td>\n",
       "      <td>1</td>\n",
       "      <td>0</td>\n",
       "      <td>1</td>\n",
       "      <td>0</td>\n",
       "      <td>1</td>\n",
       "      <td>0</td>\n",
       "      <td>1</td>\n",
       "      <td>0</td>\n",
       "      <td>0</td>\n",
       "      <td>0</td>\n",
       "      <td>0</td>\n",
       "      <td>0</td>\n",
       "      <td>1</td>\n",
       "      <td>0</td>\n",
       "      <td>1</td>\n",
       "      <td>0</td>\n",
       "      <td>0</td>\n",
       "      <td>0</td>\n",
       "      <td>0</td>\n",
       "      <td>0</td>\n",
       "      <td>0</td>\n",
       "      <td>1</td>\n",
       "      <td>0</td>\n",
       "      <td>0</td>\n",
       "      <td>0</td>\n",
       "      <td>1</td>\n",
       "      <td>0</td>\n",
       "      <td>0</td>\n",
       "      <td>0</td>\n",
       "      <td>...</td>\n",
       "      <td>0</td>\n",
       "      <td>0</td>\n",
       "      <td>0</td>\n",
       "      <td>0</td>\n",
       "      <td>0</td>\n",
       "      <td>0</td>\n",
       "      <td>1</td>\n",
       "      <td>0</td>\n",
       "      <td>0</td>\n",
       "      <td>1</td>\n",
       "      <td>0</td>\n",
       "      <td>1</td>\n",
       "      <td>0</td>\n",
       "      <td>0</td>\n",
       "      <td>0</td>\n",
       "      <td>0</td>\n",
       "      <td>0</td>\n",
       "      <td>0</td>\n",
       "      <td>1</td>\n",
       "      <td>0</td>\n",
       "      <td>1</td>\n",
       "      <td>0</td>\n",
       "      <td>1</td>\n",
       "      <td>0</td>\n",
       "      <td>0</td>\n",
       "      <td>0</td>\n",
       "      <td>1</td>\n",
       "      <td>0</td>\n",
       "      <td>1</td>\n",
       "      <td>0</td>\n",
       "      <td>1</td>\n",
       "      <td>0</td>\n",
       "      <td>0</td>\n",
       "      <td>0</td>\n",
       "      <td>1</td>\n",
       "      <td>0</td>\n",
       "      <td>1</td>\n",
       "      <td>0</td>\n",
       "      <td>0</td>\n",
       "      <td>0</td>\n",
       "    </tr>\n",
       "    <tr>\n",
       "      <th>2</th>\n",
       "      <td>-6.759123e-16</td>\n",
       "      <td>0.000000</td>\n",
       "      <td>2.113454e-17</td>\n",
       "      <td>-0.587878</td>\n",
       "      <td>1.240977</td>\n",
       "      <td>1</td>\n",
       "      <td>0</td>\n",
       "      <td>0</td>\n",
       "      <td>0</td>\n",
       "      <td>0</td>\n",
       "      <td>0</td>\n",
       "      <td>0</td>\n",
       "      <td>0</td>\n",
       "      <td>1</td>\n",
       "      <td>0</td>\n",
       "      <td>1</td>\n",
       "      <td>0</td>\n",
       "      <td>1</td>\n",
       "      <td>0</td>\n",
       "      <td>0</td>\n",
       "      <td>0</td>\n",
       "      <td>0</td>\n",
       "      <td>0</td>\n",
       "      <td>1</td>\n",
       "      <td>0</td>\n",
       "      <td>1</td>\n",
       "      <td>0</td>\n",
       "      <td>0</td>\n",
       "      <td>0</td>\n",
       "      <td>0</td>\n",
       "      <td>0</td>\n",
       "      <td>0</td>\n",
       "      <td>1</td>\n",
       "      <td>0</td>\n",
       "      <td>1</td>\n",
       "      <td>1</td>\n",
       "      <td>0</td>\n",
       "      <td>0</td>\n",
       "      <td>0</td>\n",
       "      <td>0</td>\n",
       "      <td>...</td>\n",
       "      <td>0</td>\n",
       "      <td>0</td>\n",
       "      <td>0</td>\n",
       "      <td>0</td>\n",
       "      <td>0</td>\n",
       "      <td>1</td>\n",
       "      <td>1</td>\n",
       "      <td>0</td>\n",
       "      <td>1</td>\n",
       "      <td>0</td>\n",
       "      <td>0</td>\n",
       "      <td>1</td>\n",
       "      <td>0</td>\n",
       "      <td>0</td>\n",
       "      <td>0</td>\n",
       "      <td>0</td>\n",
       "      <td>0</td>\n",
       "      <td>0</td>\n",
       "      <td>1</td>\n",
       "      <td>0</td>\n",
       "      <td>1</td>\n",
       "      <td>0</td>\n",
       "      <td>1</td>\n",
       "      <td>0</td>\n",
       "      <td>0</td>\n",
       "      <td>0</td>\n",
       "      <td>1</td>\n",
       "      <td>0</td>\n",
       "      <td>1</td>\n",
       "      <td>0</td>\n",
       "      <td>1</td>\n",
       "      <td>0</td>\n",
       "      <td>0</td>\n",
       "      <td>0</td>\n",
       "      <td>1</td>\n",
       "      <td>0</td>\n",
       "      <td>1</td>\n",
       "      <td>1</td>\n",
       "      <td>0</td>\n",
       "      <td>0</td>\n",
       "    </tr>\n",
       "    <tr>\n",
       "      <th>3</th>\n",
       "      <td>-6.759123e-16</td>\n",
       "      <td>-0.475159</td>\n",
       "      <td>-9.571763e-02</td>\n",
       "      <td>0.152999</td>\n",
       "      <td>0.264894</td>\n",
       "      <td>1</td>\n",
       "      <td>0</td>\n",
       "      <td>1</td>\n",
       "      <td>0</td>\n",
       "      <td>1</td>\n",
       "      <td>0</td>\n",
       "      <td>0</td>\n",
       "      <td>0</td>\n",
       "      <td>1</td>\n",
       "      <td>0</td>\n",
       "      <td>1</td>\n",
       "      <td>0</td>\n",
       "      <td>1</td>\n",
       "      <td>0</td>\n",
       "      <td>0</td>\n",
       "      <td>0</td>\n",
       "      <td>1</td>\n",
       "      <td>0</td>\n",
       "      <td>1</td>\n",
       "      <td>0</td>\n",
       "      <td>1</td>\n",
       "      <td>0</td>\n",
       "      <td>0</td>\n",
       "      <td>0</td>\n",
       "      <td>0</td>\n",
       "      <td>0</td>\n",
       "      <td>0</td>\n",
       "      <td>1</td>\n",
       "      <td>0</td>\n",
       "      <td>1</td>\n",
       "      <td>0</td>\n",
       "      <td>1</td>\n",
       "      <td>0</td>\n",
       "      <td>0</td>\n",
       "      <td>0</td>\n",
       "      <td>...</td>\n",
       "      <td>0</td>\n",
       "      <td>0</td>\n",
       "      <td>0</td>\n",
       "      <td>0</td>\n",
       "      <td>0</td>\n",
       "      <td>1</td>\n",
       "      <td>1</td>\n",
       "      <td>0</td>\n",
       "      <td>0</td>\n",
       "      <td>1</td>\n",
       "      <td>0</td>\n",
       "      <td>1</td>\n",
       "      <td>0</td>\n",
       "      <td>0</td>\n",
       "      <td>0</td>\n",
       "      <td>0</td>\n",
       "      <td>0</td>\n",
       "      <td>0</td>\n",
       "      <td>1</td>\n",
       "      <td>0</td>\n",
       "      <td>1</td>\n",
       "      <td>0</td>\n",
       "      <td>1</td>\n",
       "      <td>0</td>\n",
       "      <td>0</td>\n",
       "      <td>0</td>\n",
       "      <td>1</td>\n",
       "      <td>0</td>\n",
       "      <td>1</td>\n",
       "      <td>0</td>\n",
       "      <td>1</td>\n",
       "      <td>0</td>\n",
       "      <td>0</td>\n",
       "      <td>0</td>\n",
       "      <td>1</td>\n",
       "      <td>0</td>\n",
       "      <td>1</td>\n",
       "      <td>0</td>\n",
       "      <td>0</td>\n",
       "      <td>0</td>\n",
       "    </tr>\n",
       "    <tr>\n",
       "      <th>4</th>\n",
       "      <td>-2.249476e+00</td>\n",
       "      <td>0.000000</td>\n",
       "      <td>2.113454e-17</td>\n",
       "      <td>0.493149</td>\n",
       "      <td>-1.470366</td>\n",
       "      <td>1</td>\n",
       "      <td>0</td>\n",
       "      <td>1</td>\n",
       "      <td>0</td>\n",
       "      <td>1</td>\n",
       "      <td>0</td>\n",
       "      <td>1</td>\n",
       "      <td>0</td>\n",
       "      <td>1</td>\n",
       "      <td>0</td>\n",
       "      <td>1</td>\n",
       "      <td>0</td>\n",
       "      <td>1</td>\n",
       "      <td>0</td>\n",
       "      <td>0</td>\n",
       "      <td>0</td>\n",
       "      <td>1</td>\n",
       "      <td>0</td>\n",
       "      <td>1</td>\n",
       "      <td>0</td>\n",
       "      <td>1</td>\n",
       "      <td>0</td>\n",
       "      <td>0</td>\n",
       "      <td>0</td>\n",
       "      <td>0</td>\n",
       "      <td>0</td>\n",
       "      <td>0</td>\n",
       "      <td>1</td>\n",
       "      <td>0</td>\n",
       "      <td>0</td>\n",
       "      <td>0</td>\n",
       "      <td>1</td>\n",
       "      <td>0</td>\n",
       "      <td>0</td>\n",
       "      <td>0</td>\n",
       "      <td>...</td>\n",
       "      <td>1</td>\n",
       "      <td>0</td>\n",
       "      <td>0</td>\n",
       "      <td>0</td>\n",
       "      <td>0</td>\n",
       "      <td>0</td>\n",
       "      <td>1</td>\n",
       "      <td>0</td>\n",
       "      <td>0</td>\n",
       "      <td>1</td>\n",
       "      <td>0</td>\n",
       "      <td>1</td>\n",
       "      <td>0</td>\n",
       "      <td>0</td>\n",
       "      <td>0</td>\n",
       "      <td>0</td>\n",
       "      <td>0</td>\n",
       "      <td>0</td>\n",
       "      <td>1</td>\n",
       "      <td>0</td>\n",
       "      <td>1</td>\n",
       "      <td>0</td>\n",
       "      <td>1</td>\n",
       "      <td>0</td>\n",
       "      <td>0</td>\n",
       "      <td>0</td>\n",
       "      <td>1</td>\n",
       "      <td>0</td>\n",
       "      <td>1</td>\n",
       "      <td>0</td>\n",
       "      <td>1</td>\n",
       "      <td>0</td>\n",
       "      <td>0</td>\n",
       "      <td>0</td>\n",
       "      <td>1</td>\n",
       "      <td>0</td>\n",
       "      <td>1</td>\n",
       "      <td>0</td>\n",
       "      <td>0</td>\n",
       "      <td>0</td>\n",
       "    </tr>\n",
       "  </tbody>\n",
       "</table>\n",
       "<p>5 rows × 145 columns</p>\n",
       "</div>"
      ],
      "text/plain": [
       "     spouse_age  typical_weekly_hours_worked  ...  pvt_health_ins_10  target\n",
       "0 -6.759123e-16                     0.000000  ...                  0       0\n",
       "1 -1.012835e+00                     0.000000  ...                  0       0\n",
       "2 -6.759123e-16                     0.000000  ...                  0       0\n",
       "3 -6.759123e-16                    -0.475159  ...                  0       0\n",
       "4 -2.249476e+00                     0.000000  ...                  0       0\n",
       "\n",
       "[5 rows x 145 columns]"
      ]
     },
     "execution_count": 8,
     "metadata": {
      "tags": []
     },
     "output_type": "execute_result"
    }
   ],
   "source": [
    "train_data = pd.read_csv('FINAL_TRAIN.csv', header=0)\n",
    "train_data.head()"
   ]
  },
  {
   "cell_type": "code",
   "execution_count": 9,
   "metadata": {
    "colab": {
     "base_uri": "https://localhost:8080/"
    },
    "id": "XbnkCnKsjNh5",
    "outputId": "f4a50c69-ba3b-4911-c7c5-e9c4a8ac2844"
   },
   "outputs": [
    {
     "data": {
      "text/plain": [
       "(25289, 145)"
      ]
     },
     "execution_count": 9,
     "metadata": {
      "tags": []
     },
     "output_type": "execute_result"
    }
   ],
   "source": [
    "train_data.shape"
   ]
  },
  {
   "cell_type": "code",
   "execution_count": 10,
   "metadata": {
    "id": "rRbu-IPSjari"
   },
   "outputs": [],
   "source": [
    "train = train_data.drop('target', axis = 1)\n",
    "train_label = train_data[['target']]"
   ]
  },
  {
   "cell_type": "code",
   "execution_count": 11,
   "metadata": {
    "id": "qvNHZa-gmMC9"
   },
   "outputs": [],
   "source": [
    "test_data = pd.read_csv('FINAL_TEST.csv', header=0)\n",
    "test = test_data.drop('target', axis=1)\n",
    "test_label = test_data[['target']]"
   ]
  },
  {
   "cell_type": "markdown",
   "metadata": {
    "id": "IJil5ZPhFFjR"
   },
   "source": [
    "# Randomized Search with Cross Validation\n",
    "- Decision Tree \n",
    "- Logistic Regression\n",
    "- Random Forest Classifier\n",
    "- Gradient Boosting Classifier"
   ]
  },
  {
   "cell_type": "code",
   "execution_count": 12,
   "metadata": {
    "id": "iUEhaEsYmwkp"
   },
   "outputs": [],
   "source": [
    "from sklearn.tree import DecisionTreeClassifier\n",
    "from sklearn.model_selection import KFold, StratifiedKFold\n",
    "from sklearn.model_selection import RandomizedSearchCV\n",
    "\n",
    "skf = StratifiedKFold(n_splits=5)"
   ]
  },
  {
   "cell_type": "code",
   "execution_count": 20,
   "metadata": {
    "id": "hBSPBcmiFVBz"
   },
   "outputs": [],
   "source": [
    "from collections import defaultdict \n",
    "models = defaultdict(list)"
   ]
  },
  {
   "cell_type": "markdown",
   "metadata": {
    "id": "BuTlzudQK0g1"
   },
   "source": [
    "### Decision Tree "
   ]
  },
  {
   "cell_type": "code",
   "execution_count": 15,
   "metadata": {
    "colab": {
     "base_uri": "https://localhost:8080/"
    },
    "id": "Oe9KQx_JjjKJ",
    "outputId": "220f2fc0-5d14-40eb-8402-8ba87741785c"
   },
   "outputs": [
    {
     "name": "stdout",
     "output_type": "stream",
     "text": [
      "Fitting 5 folds for each of 10 candidates, totalling 50 fits\n"
     ]
    },
    {
     "name": "stderr",
     "output_type": "stream",
     "text": [
      "[Parallel(n_jobs=-1)]: Using backend LokyBackend with 2 concurrent workers.\n",
      "[Parallel(n_jobs=-1)]: Done  46 tasks      | elapsed:    6.7s\n",
      "[Parallel(n_jobs=-1)]: Done  50 out of  50 | elapsed:    7.1s finished\n"
     ]
    },
    {
     "data": {
      "text/plain": [
       "RandomizedSearchCV(cv=StratifiedKFold(n_splits=5, random_state=None, shuffle=False),\n",
       "                   error_score=nan,\n",
       "                   estimator=DecisionTreeClassifier(ccp_alpha=0.0,\n",
       "                                                    class_weight=None,\n",
       "                                                    criterion='gini',\n",
       "                                                    max_depth=None,\n",
       "                                                    max_features=None,\n",
       "                                                    max_leaf_nodes=None,\n",
       "                                                    min_impurity_decrease=0.0,\n",
       "                                                    min_impurity_split=None,\n",
       "                                                    min_samples_leaf=1,\n",
       "                                                    min_samples_split=2,\n",
       "                                                    min_weight_fraction_leaf=0.0...\n",
       "                                        'min_samples_leaf': [None, 10, 11, 13,\n",
       "                                                             15, 17, 19, 21, 22,\n",
       "                                                             24, 26, 28, 30, 32,\n",
       "                                                             33, 35, 37, 39, 41,\n",
       "                                                             43, 44, 46, 48, 50,\n",
       "                                                             52, 54, 55, 57, 59,\n",
       "                                                             61, ...],\n",
       "                                        'min_samples_split': [None, 50, 89, 129,\n",
       "                                                              169, 209, 248,\n",
       "                                                              288, 328, 368,\n",
       "                                                              408, 447, 487,\n",
       "                                                              527, 567, 607,\n",
       "                                                              646, 686, 726,\n",
       "                                                              766, 806, 845,\n",
       "                                                              885, 925, 965,\n",
       "                                                              1005, 1044, 1084,\n",
       "                                                              1124, 1164, ...]},\n",
       "                   pre_dispatch='2*n_jobs', random_state=50, refit=True,\n",
       "                   return_train_score=False, scoring='roc_auc', verbose=1)"
      ]
     },
     "execution_count": 15,
     "metadata": {
      "tags": []
     },
     "output_type": "execute_result"
    }
   ],
   "source": [
    "#Tuning Decision Tree by Randomized Grid Search\n",
    "\n",
    "#Hyperparameter grid \n",
    "param_grid_dt = {\n",
    "    'max_depth': [None] + list(np.linspace(3, 20).astype(int)), \n",
    "    'min_samples_split': [None] + list(np.linspace(50,2000).astype(int)), \n",
    "    'min_samples_leaf': [None] + list(np.linspace(10, 100).astype(int))\n",
    "}\n",
    "\n",
    "#Estimator \n",
    "dtree = DecisionTreeClassifier()\n",
    "\n",
    "# Create the random search model\n",
    "rs_dt = RandomizedSearchCV(dtree, param_grid_dt, n_jobs = -1, \n",
    "                        scoring = 'roc_auc', cv = skf, \n",
    "                        n_iter = 10, verbose = 1, random_state=50)\n",
    "\n",
    "# Fit \n",
    "rs_dt.fit(train, train_label)"
   ]
  },
  {
   "cell_type": "code",
   "execution_count": 19,
   "metadata": {
    "colab": {
     "base_uri": "https://localhost:8080/"
    },
    "id": "rXHT1liWnw8z",
    "outputId": "631829b2-a858-4517-8419-f3f987c7bdc2"
   },
   "outputs": [
    {
     "name": "stdout",
     "output_type": "stream",
     "text": [
      "CV score of best model: 0.7511740072570281\n"
     ]
    }
   ],
   "source": [
    "best_dt = rs_dt.best_estimator_\n",
    "print('CV score of best model: {}'.format(rs_dt.best_score_))"
   ]
  },
  {
   "cell_type": "code",
   "execution_count": 25,
   "metadata": {
    "colab": {
     "base_uri": "https://localhost:8080/"
    },
    "id": "R9dl3LiIoPat",
    "outputId": "5b3e83ef-afa7-4e3c-e5f0-9a9e36ca0a3b"
   },
   "outputs": [
    {
     "name": "stdout",
     "output_type": "stream",
     "text": [
      "Test score of best model: 0.7592608445859824\n"
     ]
    }
   ],
   "source": [
    "#Test performance of best model\n",
    "from sklearn.metrics import roc_auc_score\n",
    "best_dt.fit(train, train_label)\n",
    "pred = best_dt.predict_proba(test)\n",
    "test_auc = roc_auc_score(test_label, pred[:,1])\n",
    "print('Test score of best model: {}'.format(test_auc))"
   ]
  },
  {
   "cell_type": "code",
   "execution_count": 26,
   "metadata": {
    "id": "9GrKQkB-HRvo"
   },
   "outputs": [],
   "source": [
    "models['Decision Tree RSCV'] = [rs_dt.best_score_, test_auc]"
   ]
  },
  {
   "cell_type": "code",
   "execution_count": 27,
   "metadata": {
    "colab": {
     "base_uri": "https://localhost:8080/"
    },
    "id": "n2fC-N9ko-74",
    "outputId": "98b8bbb0-311f-49d5-feff-2dab10877188"
   },
   "outputs": [
    {
     "name": "stdout",
     "output_type": "stream",
     "text": [
      "0.6012546175561151\n"
     ]
    }
   ],
   "source": [
    "#Test performance of Default Decision Tree \n",
    "default_dt = DecisionTreeClassifier()\n",
    "default_dt.fit(train, train_label)\n",
    "pred = default_dt.predict_proba(test)\n",
    "print(roc_auc_score(test_label, pred[:,1]))"
   ]
  },
  {
   "cell_type": "markdown",
   "metadata": {
    "id": "EuX1mcbiK6Kp"
   },
   "source": [
    "### Random Forest"
   ]
  },
  {
   "cell_type": "code",
   "execution_count": 28,
   "metadata": {
    "colab": {
     "base_uri": "https://localhost:8080/"
    },
    "id": "6nRIxobOeEud",
    "outputId": "5747d200-2f11-43a9-c568-64c46c694cbb"
   },
   "outputs": [
    {
     "name": "stdout",
     "output_type": "stream",
     "text": [
      "Fitting 5 folds for each of 10 candidates, totalling 50 fits\n"
     ]
    },
    {
     "name": "stderr",
     "output_type": "stream",
     "text": [
      "[Parallel(n_jobs=-1)]: Using backend LokyBackend with 2 concurrent workers.\n",
      "[Parallel(n_jobs=-1)]: Done  46 tasks      | elapsed:  2.4min\n",
      "[Parallel(n_jobs=-1)]: Done  50 out of  50 | elapsed:  2.8min finished\n",
      "/usr/local/lib/python3.6/dist-packages/sklearn/model_selection/_search.py:739: DataConversionWarning: A column-vector y was passed when a 1d array was expected. Please change the shape of y to (n_samples,), for example using ravel().\n",
      "  self.best_estimator_.fit(X, y, **fit_params)\n"
     ]
    },
    {
     "data": {
      "text/plain": [
       "RandomizedSearchCV(cv=StratifiedKFold(n_splits=5, random_state=None, shuffle=False),\n",
       "                   error_score=nan,\n",
       "                   estimator=RandomForestClassifier(bootstrap=True,\n",
       "                                                    ccp_alpha=0.0,\n",
       "                                                    class_weight=None,\n",
       "                                                    criterion='gini',\n",
       "                                                    max_depth=None,\n",
       "                                                    max_features='auto',\n",
       "                                                    max_leaf_nodes=None,\n",
       "                                                    max_samples=None,\n",
       "                                                    min_impurity_decrease=0.0,\n",
       "                                                    min_impurity_split=None,\n",
       "                                                    min_samples_leaf=1,\n",
       "                                                    min_samples_sp...\n",
       "                                        'min_samples_split': [2, 5, 10],\n",
       "                                        'n_estimators': array([ 10,  13,  17,  21,  25,  29,  33,  37,  41,  44,  48,  52,  56,\n",
       "        60,  64,  68,  72,  75,  79,  83,  87,  91,  95,  99, 103, 106,\n",
       "       110, 114, 118, 122, 126, 130, 134, 137, 141, 145, 149, 153, 157,\n",
       "       161, 165, 168, 172, 176, 180, 184, 188, 192, 196, 200]),\n",
       "                                        'oob_score': [True]},\n",
       "                   pre_dispatch='2*n_jobs', random_state=50, refit=True,\n",
       "                   return_train_score=False, scoring='roc_auc', verbose=1)"
      ]
     },
     "execution_count": 28,
     "metadata": {
      "tags": []
     },
     "output_type": "execute_result"
    }
   ],
   "source": [
    "#Tuning Random Forest by Randomized Grid Search\n",
    "\n",
    "from sklearn.ensemble import RandomForestClassifier\n",
    "\n",
    "# Hyperparameter grid\n",
    "param_grid_rf = {\n",
    "    'n_estimators': np.linspace(10, 200).astype(int),\n",
    "    'max_depth': [None] + list(np.linspace(3, 20).astype(int)),\n",
    "    'max_features': ['auto', 'sqrt', None] + list(np.arange(0.5, 1, 0.1)),\n",
    "    'max_leaf_nodes': [None] + list(np.linspace(10, 50, 500).astype(int)),\n",
    "    'min_samples_split': [2, 5, 10],\n",
    "    'bootstrap': [True],\n",
    "    'oob_score': [True]\n",
    "}\n",
    "\n",
    "# Estimator for use in random search\n",
    "rf = RandomForestClassifier(random_state = 50)\n",
    "\n",
    "# Create the random search model\n",
    "rs_rf = RandomizedSearchCV(rf, param_grid_rf, n_jobs = -1, \n",
    "                        scoring = 'roc_auc', cv = skf, \n",
    "                        n_iter = 10, verbose = 1, random_state=50)\n",
    "\n",
    "# Fit \n",
    "rs_rf.fit(train, train_label)"
   ]
  },
  {
   "cell_type": "code",
   "execution_count": 29,
   "metadata": {
    "colab": {
     "base_uri": "https://localhost:8080/"
    },
    "id": "CJ5eJleMqcRF",
    "outputId": "dc37906f-9396-4ef7-eff1-2b61c9d99b82"
   },
   "outputs": [
    {
     "name": "stdout",
     "output_type": "stream",
     "text": [
      "CV score of best model: 0.7611600704780507\n"
     ]
    }
   ],
   "source": [
    "best_rf = rs_rf.best_estimator_\n",
    "print('CV score of best model: {}'.format(rs_rf.best_score_))"
   ]
  },
  {
   "cell_type": "code",
   "execution_count": 30,
   "metadata": {
    "colab": {
     "base_uri": "https://localhost:8080/"
    },
    "id": "wCITmjoPIN5v",
    "outputId": "eae7da8c-8dde-4839-f5ff-c65bc16870bf"
   },
   "outputs": [
    {
     "name": "stderr",
     "output_type": "stream",
     "text": [
      "/usr/local/lib/python3.6/dist-packages/ipykernel_launcher.py:2: DataConversionWarning: A column-vector y was passed when a 1d array was expected. Please change the shape of y to (n_samples,), for example using ravel().\n",
      "  \n"
     ]
    },
    {
     "name": "stdout",
     "output_type": "stream",
     "text": [
      "Test score of best model: 0.7689944336008097\n"
     ]
    }
   ],
   "source": [
    "#Test performance of best model\n",
    "best_rf.fit(train, train_label)\n",
    "pred = best_rf.predict_proba(test)\n",
    "test_auc = roc_auc_score(test_label, pred[:,1])\n",
    "print('Test score of best model: {}'.format(test_auc))"
   ]
  },
  {
   "cell_type": "code",
   "execution_count": 31,
   "metadata": {
    "id": "nSkyZq0cITl5"
   },
   "outputs": [],
   "source": [
    "models['Random Forest RSCV'] = [rs_rf.best_score_, test_auc]"
   ]
  },
  {
   "cell_type": "markdown",
   "metadata": {
    "id": "krqB5becK-ER"
   },
   "source": [
    "### Gradient Boosting"
   ]
  },
  {
   "cell_type": "code",
   "execution_count": 33,
   "metadata": {
    "colab": {
     "base_uri": "https://localhost:8080/"
    },
    "id": "a4uwLdsh1Vy8",
    "outputId": "a56e9918-82c6-4f19-fa20-68870703aa64"
   },
   "outputs": [
    {
     "name": "stdout",
     "output_type": "stream",
     "text": [
      "Fitting 5 folds for each of 10 candidates, totalling 50 fits\n"
     ]
    },
    {
     "name": "stderr",
     "output_type": "stream",
     "text": [
      "[Parallel(n_jobs=-1)]: Using backend LokyBackend with 2 concurrent workers.\n",
      "[Parallel(n_jobs=-1)]: Done  46 tasks      | elapsed:   12.5s\n",
      "[Parallel(n_jobs=-1)]: Done  50 out of  50 | elapsed:   13.5s finished\n",
      "/usr/local/lib/python3.6/dist-packages/sklearn/ensemble/_gb.py:1454: DataConversionWarning: A column-vector y was passed when a 1d array was expected. Please change the shape of y to (n_samples, ), for example using ravel().\n",
      "  y = column_or_1d(y, warn=True)\n"
     ]
    },
    {
     "data": {
      "text/plain": [
       "RandomizedSearchCV(cv=StratifiedKFold(n_splits=5, random_state=None, shuffle=False),\n",
       "                   error_score=nan,\n",
       "                   estimator=GradientBoostingClassifier(ccp_alpha=0.0,\n",
       "                                                        criterion='friedman_mse',\n",
       "                                                        init=None,\n",
       "                                                        learning_rate=0.1,\n",
       "                                                        loss='deviance',\n",
       "                                                        max_depth=3,\n",
       "                                                        max_features=None,\n",
       "                                                        max_leaf_nodes=None,\n",
       "                                                        min_impurity_decrease=0.0,\n",
       "                                                        min_impurity_split=None,\n",
       "                                                        min_samples_leaf=1,\n",
       "                                                        min_samples_s...\n",
       "                                        'max_features': [1, 2, 3, 4, 5, 6, 7, 8,\n",
       "                                                         9, 10, 11, 12, 13, 14,\n",
       "                                                         15, 16, 17, 18, 19, 20,\n",
       "                                                         21, 22, 23, 24, 25, 26,\n",
       "                                                         27, 28, 29, 30, ...],\n",
       "                                        'min_samples_leaf': array([0.1, 0.2, 0.3, 0.4, 0.5]),\n",
       "                                        'min_samples_split': array([0.1, 0.2, 0.3, 0.4, 0.5, 0.6, 0.7, 0.8, 0.9, 1. ]),\n",
       "                                        'n_estimators': [1, 2, 4, 8, 16, 32, 64,\n",
       "                                                         100, 200]},\n",
       "                   pre_dispatch='2*n_jobs', random_state=50, refit=True,\n",
       "                   return_train_score=False, scoring='roc_auc', verbose=1)"
      ]
     },
     "execution_count": 33,
     "metadata": {
      "tags": []
     },
     "output_type": "execute_result"
    }
   ],
   "source": [
    "#Tuning Gradient Boosting Classifier \n",
    "\n",
    "from sklearn.ensemble import GradientBoostingClassifier\n",
    "\n",
    "# Hyperparameter grid\n",
    "param_grid_gb = {\n",
    "    'n_estimators': [1, 2, 4, 8, 16, 32, 64, 100, 200],\n",
    "    'max_depth': np.linspace(1, 40, 40, endpoint=True), \n",
    "    'min_samples_split': np.linspace(0.1, 1.0, 10, endpoint=True), \n",
    "    'min_samples_leaf': np.linspace(0.1, 0.5, 5, endpoint=True), \n",
    "    'max_features': list(range(1,train.shape[1])), \n",
    "    'learning_rate': [1, 0.5, 0.25, 0.1, 0.05, 0.01]\n",
    "}\n",
    "\n",
    "# Estimator for use in random search\n",
    "gb = GradientBoostingClassifier(random_state = 50)\n",
    "\n",
    "# Create the random search model\n",
    "rs_gb = RandomizedSearchCV(gb, param_grid_gb, n_jobs = -1, \n",
    "                        scoring = 'roc_auc', cv = skf, \n",
    "                        n_iter = 10, verbose = 1, random_state=50)\n",
    "\n",
    "# Fit \n",
    "rs_gb.fit(train, train_label)"
   ]
  },
  {
   "cell_type": "code",
   "execution_count": 34,
   "metadata": {
    "colab": {
     "base_uri": "https://localhost:8080/"
    },
    "id": "xrBp3O1_5-eN",
    "outputId": "eeb6aa42-e2af-45e9-98c8-01cf76f34b21"
   },
   "outputs": [
    {
     "name": "stdout",
     "output_type": "stream",
     "text": [
      "CV score of best model: 0.7564307065844849\n"
     ]
    }
   ],
   "source": [
    "best_gb = rs_gb.best_estimator_\n",
    "print('CV score of best model: {}'.format(rs_gb.best_score_))"
   ]
  },
  {
   "cell_type": "code",
   "execution_count": 35,
   "metadata": {
    "colab": {
     "base_uri": "https://localhost:8080/"
    },
    "id": "r2P6CkzT6TIk",
    "outputId": "5974bcdb-0a6e-49a4-856c-6bf22706163f"
   },
   "outputs": [
    {
     "name": "stderr",
     "output_type": "stream",
     "text": [
      "/usr/local/lib/python3.6/dist-packages/sklearn/ensemble/_gb.py:1454: DataConversionWarning: A column-vector y was passed when a 1d array was expected. Please change the shape of y to (n_samples, ), for example using ravel().\n",
      "  y = column_or_1d(y, warn=True)\n"
     ]
    },
    {
     "name": "stdout",
     "output_type": "stream",
     "text": [
      "Test score of best model: 0.7600869333099438\n"
     ]
    }
   ],
   "source": [
    "#Test performance of best model\n",
    "best_gb.fit(train, train_label)\n",
    "pred = best_gb.predict_proba(test)\n",
    "test_auc = roc_auc_score(test_label, pred[:,1])\n",
    "print('Test score of best model: {}'.format(test_auc))"
   ]
  },
  {
   "cell_type": "code",
   "execution_count": 37,
   "metadata": {
    "id": "bet1usN26ndI"
   },
   "outputs": [],
   "source": [
    "models['Gradient Boosting RSCV'] = [rs_gb.best_score_, test_auc]"
   ]
  },
  {
   "cell_type": "markdown",
   "metadata": {
    "id": "Zpq4iEK2LCZU"
   },
   "source": [
    "### Logistic Regression"
   ]
  },
  {
   "cell_type": "code",
   "execution_count": 40,
   "metadata": {
    "colab": {
     "base_uri": "https://localhost:8080/"
    },
    "id": "T0Csquoj7OE9",
    "outputId": "4bac69f5-ad8d-4325-cfeb-6d783a449450"
   },
   "outputs": [
    {
     "name": "stdout",
     "output_type": "stream",
     "text": [
      "Fitting 5 folds for each of 10 candidates, totalling 50 fits\n"
     ]
    },
    {
     "name": "stderr",
     "output_type": "stream",
     "text": [
      "[Parallel(n_jobs=-1)]: Using backend LokyBackend with 2 concurrent workers.\n",
      "[Parallel(n_jobs=-1)]: Done  46 tasks      | elapsed:  2.1min\n",
      "[Parallel(n_jobs=-1)]: Done  50 out of  50 | elapsed:  2.1min finished\n",
      "/usr/local/lib/python3.6/dist-packages/sklearn/utils/validation.py:760: DataConversionWarning: A column-vector y was passed when a 1d array was expected. Please change the shape of y to (n_samples, ), for example using ravel().\n",
      "  y = column_or_1d(y, warn=True)\n"
     ]
    },
    {
     "data": {
      "text/plain": [
       "RandomizedSearchCV(cv=StratifiedKFold(n_splits=5, random_state=None, shuffle=False),\n",
       "                   error_score=nan,\n",
       "                   estimator=LogisticRegression(C=1.0, class_weight=None,\n",
       "                                                dual=False, fit_intercept=True,\n",
       "                                                intercept_scaling=1,\n",
       "                                                l1_ratio=None, max_iter=100,\n",
       "                                                multi_class='auto', n_jobs=None,\n",
       "                                                penalty='l2', random_state=50,\n",
       "                                                solver='lbfgs', tol=0.0001,\n",
       "                                                verbose=0, warm_start=False),\n",
       "                   iid='dep..._jobs=-1,\n",
       "                   param_distributions={'C': array([1.00000000e-03, 4.64158883e-03, 2.15443469e-02, 1.00000000e-01,\n",
       "       4.64158883e-01, 2.15443469e+00, 1.00000000e+01, 4.64158883e+01,\n",
       "       2.15443469e+02, 1.00000000e+03]),\n",
       "                                        'penalty': ['l1', 'l2'],\n",
       "                                        'solver': ['liblinear', 'saga']},\n",
       "                   pre_dispatch='2*n_jobs', random_state=50, refit=True,\n",
       "                   return_train_score=False, scoring='roc_auc', verbose=1)"
      ]
     },
     "execution_count": 40,
     "metadata": {
      "tags": []
     },
     "output_type": "execute_result"
    }
   ],
   "source": [
    "#Tuning Logistic Regression \n",
    "\n",
    "from sklearn.linear_model import LogisticRegression\n",
    "\n",
    "C = np.logspace(-3, 3, num=10)\n",
    "penalty = ['l1', 'l2']\n",
    "solver = ['liblinear', 'saga']\n",
    "\n",
    "param_grid_lr = dict(C=C, penalty=penalty, solver=solver)\n",
    "\n",
    "lr = LogisticRegression(random_state = 50)\n",
    "\n",
    "rs_lr = RandomizedSearchCV(lr, param_grid_lr, n_jobs = -1, \n",
    "                        scoring = 'roc_auc', cv = skf, \n",
    "                        n_iter = 10, verbose = 1, random_state=50)\n",
    "\n",
    "# Fit \n",
    "rs_lr.fit(train, train_label)"
   ]
  },
  {
   "cell_type": "code",
   "execution_count": 41,
   "metadata": {
    "colab": {
     "base_uri": "https://localhost:8080/"
    },
    "id": "CWr10nNc7OH5",
    "outputId": "ccf6578f-f947-42d4-9a68-14f8273c47f6"
   },
   "outputs": [
    {
     "name": "stdout",
     "output_type": "stream",
     "text": [
      "CV score of best model: 0.7643041547621804\n"
     ]
    }
   ],
   "source": [
    "best_lr = rs_lr.best_estimator_\n",
    "print('CV score of best model: {}'.format(rs_lr.best_score_))"
   ]
  },
  {
   "cell_type": "code",
   "execution_count": 42,
   "metadata": {
    "colab": {
     "base_uri": "https://localhost:8080/"
    },
    "id": "3Ii_P5Gt7fZy",
    "outputId": "5dac40d9-e007-475e-c56d-22cc4691696b"
   },
   "outputs": [
    {
     "name": "stderr",
     "output_type": "stream",
     "text": [
      "/usr/local/lib/python3.6/dist-packages/sklearn/utils/validation.py:760: DataConversionWarning: A column-vector y was passed when a 1d array was expected. Please change the shape of y to (n_samples, ), for example using ravel().\n",
      "  y = column_or_1d(y, warn=True)\n"
     ]
    },
    {
     "name": "stdout",
     "output_type": "stream",
     "text": [
      "Test score of best model: 0.7707817810114438\n"
     ]
    }
   ],
   "source": [
    "#Test performance of best model\n",
    "best_lr.fit(train, train_label)\n",
    "pred = best_lr.predict_proba(test)\n",
    "test_auc = roc_auc_score(test_label, pred[:,1])\n",
    "print('Test score of best model: {}'.format(test_auc))"
   ]
  },
  {
   "cell_type": "code",
   "execution_count": 43,
   "metadata": {
    "id": "V-33G3DUJ7KQ"
   },
   "outputs": [],
   "source": [
    "models['Logistic Regression RSCV'] = [rs_lr.best_score_, test_auc]"
   ]
  },
  {
   "cell_type": "code",
   "execution_count": 45,
   "metadata": {
    "colab": {
     "base_uri": "https://localhost:8080/",
     "height": 171
    },
    "id": "lCbR_2jKKFY0",
    "outputId": "9371560d-2a75-4461-8f11-d98d325d17c2"
   },
   "outputs": [
    {
     "data": {
      "text/html": [
       "<div>\n",
       "<style scoped>\n",
       "    .dataframe tbody tr th:only-of-type {\n",
       "        vertical-align: middle;\n",
       "    }\n",
       "\n",
       "    .dataframe tbody tr th {\n",
       "        vertical-align: top;\n",
       "    }\n",
       "\n",
       "    .dataframe thead th {\n",
       "        text-align: right;\n",
       "    }\n",
       "</style>\n",
       "<table border=\"1\" class=\"dataframe\">\n",
       "  <thead>\n",
       "    <tr style=\"text-align: right;\">\n",
       "      <th></th>\n",
       "      <th>CV_auc</th>\n",
       "      <th>Test_auc</th>\n",
       "    </tr>\n",
       "  </thead>\n",
       "  <tbody>\n",
       "    <tr>\n",
       "      <th>Decision Tree RSCV</th>\n",
       "      <td>0.751174</td>\n",
       "      <td>0.759261</td>\n",
       "    </tr>\n",
       "    <tr>\n",
       "      <th>Random Forest RSCV</th>\n",
       "      <td>0.761160</td>\n",
       "      <td>0.768994</td>\n",
       "    </tr>\n",
       "    <tr>\n",
       "      <th>Gradient Boosting RSCV</th>\n",
       "      <td>0.756431</td>\n",
       "      <td>0.760087</td>\n",
       "    </tr>\n",
       "    <tr>\n",
       "      <th>Logistic Regression RSCV</th>\n",
       "      <td>0.764304</td>\n",
       "      <td>0.770782</td>\n",
       "    </tr>\n",
       "  </tbody>\n",
       "</table>\n",
       "</div>"
      ],
      "text/plain": [
       "                            CV_auc  Test_auc\n",
       "Decision Tree RSCV        0.751174  0.759261\n",
       "Random Forest RSCV        0.761160  0.768994\n",
       "Gradient Boosting RSCV    0.756431  0.760087\n",
       "Logistic Regression RSCV  0.764304  0.770782"
      ]
     },
     "execution_count": 45,
     "metadata": {
      "tags": []
     },
     "output_type": "execute_result"
    }
   ],
   "source": [
    "models = dict(models)\n",
    "pd.DataFrame.from_dict(models, orient = 'index', columns= ['CV_auc', 'Test_auc'])"
   ]
  },
  {
   "cell_type": "markdown",
   "metadata": {
    "id": "4nLccFsQKmem"
   },
   "source": [
    "- Best = Logistic Regression \n",
    "- Next Best = Random Forest "
   ]
  },
  {
   "cell_type": "code",
   "execution_count": 46,
   "metadata": {
    "colab": {
     "base_uri": "https://localhost:8080/"
    },
    "id": "T4Nhip8bKsQ5",
    "outputId": "08a6fc7c-88e2-416b-c363-c273efe12b49"
   },
   "outputs": [
    {
     "data": {
      "text/plain": [
       "RandomForestClassifier(bootstrap=True, ccp_alpha=0.0, class_weight=None,\n",
       "                       criterion='gini', max_depth=12,\n",
       "                       max_features=0.7999999999999999, max_leaf_nodes=33,\n",
       "                       max_samples=None, min_impurity_decrease=0.0,\n",
       "                       min_impurity_split=None, min_samples_leaf=1,\n",
       "                       min_samples_split=2, min_weight_fraction_leaf=0.0,\n",
       "                       n_estimators=188, n_jobs=None, oob_score=True,\n",
       "                       random_state=50, verbose=0, warm_start=False)"
      ]
     },
     "execution_count": 46,
     "metadata": {
      "tags": []
     },
     "output_type": "execute_result"
    }
   ],
   "source": [
    "best_rf"
   ]
  },
  {
   "cell_type": "code",
   "execution_count": 47,
   "metadata": {
    "colab": {
     "base_uri": "https://localhost:8080/"
    },
    "id": "_ZyjxljmMWFR",
    "outputId": "e9621032-3c04-4a4c-8c71-10c55bf003c5"
   },
   "outputs": [
    {
     "data": {
      "text/plain": [
       "LogisticRegression(C=0.46415888336127775, class_weight=None, dual=False,\n",
       "                   fit_intercept=True, intercept_scaling=1, l1_ratio=None,\n",
       "                   max_iter=100, multi_class='auto', n_jobs=None, penalty='l1',\n",
       "                   random_state=50, solver='liblinear', tol=0.0001, verbose=0,\n",
       "                   warm_start=False)"
      ]
     },
     "execution_count": 47,
     "metadata": {
      "tags": []
     },
     "output_type": "execute_result"
    }
   ],
   "source": [
    "best_lr"
   ]
  },
  {
   "cell_type": "code",
   "execution_count": 48,
   "metadata": {
    "colab": {
     "base_uri": "https://localhost:8080/"
    },
    "id": "1QT3o9RnMXfE",
    "outputId": "fc09b25f-be49-4dec-dc0f-dd0fa68bd54d"
   },
   "outputs": [
    {
     "data": {
      "text/plain": [
       "DecisionTreeClassifier(ccp_alpha=0.0, class_weight=None, criterion='gini',\n",
       "                       max_depth=16, max_features=None, max_leaf_nodes=None,\n",
       "                       min_impurity_decrease=0.0, min_impurity_split=None,\n",
       "                       min_samples_leaf=96, min_samples_split=686,\n",
       "                       min_weight_fraction_leaf=0.0, presort='deprecated',\n",
       "                       random_state=None, splitter='best')"
      ]
     },
     "execution_count": 48,
     "metadata": {
      "tags": []
     },
     "output_type": "execute_result"
    }
   ],
   "source": [
    "best_dt"
   ]
  },
  {
   "cell_type": "code",
   "execution_count": 49,
   "metadata": {
    "colab": {
     "base_uri": "https://localhost:8080/"
    },
    "id": "4e426-k9MYjM",
    "outputId": "9fe79a96-0df6-4b72-8a5b-0a4df6ad8038"
   },
   "outputs": [
    {
     "data": {
      "text/plain": [
       "GradientBoostingClassifier(ccp_alpha=0.0, criterion='friedman_mse', init=None,\n",
       "                           learning_rate=0.25, loss='deviance', max_depth=22.0,\n",
       "                           max_features=71, max_leaf_nodes=None,\n",
       "                           min_impurity_decrease=0.0, min_impurity_split=None,\n",
       "                           min_samples_leaf=0.2, min_samples_split=0.2,\n",
       "                           min_weight_fraction_leaf=0.0, n_estimators=64,\n",
       "                           n_iter_no_change=None, presort='deprecated',\n",
       "                           random_state=50, subsample=1.0, tol=0.0001,\n",
       "                           validation_fraction=0.1, verbose=0,\n",
       "                           warm_start=False)"
      ]
     },
     "execution_count": 49,
     "metadata": {
      "tags": []
     },
     "output_type": "execute_result"
    }
   ],
   "source": [
    "best_gb"
   ]
  },
  {
   "cell_type": "code",
   "execution_count": null,
   "metadata": {
    "id": "FkiBaV35MaSj"
   },
   "outputs": [],
   "source": []
  }
 ],
 "metadata": {
  "accelerator": "GPU",
  "colab": {
   "collapsed_sections": [],
   "name": "CrossValidation.ipynb",
   "provenance": []
  },
  "kernelspec": {
   "display_name": "Python 3",
   "language": "python",
   "name": "python3"
  },
  "language_info": {
   "codemirror_mode": {
    "name": "ipython",
    "version": 3
   },
   "file_extension": ".py",
   "mimetype": "text/x-python",
   "name": "python",
   "nbconvert_exporter": "python",
   "pygments_lexer": "ipython3",
   "version": "3.8.3"
  }
 },
 "nbformat": 4,
 "nbformat_minor": 1
}
