{
 "cells": [
  {
   "cell_type": "code",
   "execution_count": 111,
   "metadata": {},
   "outputs": [],
   "source": [
    "import pandas as pd \n",
    "import numpy as np \n",
    "import matplotlib.pyplot as plt \n",
    "import warnings \n",
    "warnings.filterwarnings('ignore')"
   ]
  },
  {
   "cell_type": "code",
   "execution_count": 16,
   "metadata": {},
   "outputs": [],
   "source": [
    "ohe_data = pd.read_csv('OHE_dataset.csv', header=0)"
   ]
  },
  {
   "cell_type": "code",
   "execution_count": 17,
   "metadata": {},
   "outputs": [
    {
     "data": {
      "text/html": [
       "<div>\n",
       "<style scoped>\n",
       "    .dataframe tbody tr th:only-of-type {\n",
       "        vertical-align: middle;\n",
       "    }\n",
       "\n",
       "    .dataframe tbody tr th {\n",
       "        vertical-align: top;\n",
       "    }\n",
       "\n",
       "    .dataframe thead th {\n",
       "        text-align: right;\n",
       "    }\n",
       "</style>\n",
       "<table border=\"1\" class=\"dataframe\">\n",
       "  <thead>\n",
       "    <tr style=\"text-align: right;\">\n",
       "      <th></th>\n",
       "      <th>AGEP_A</th>\n",
       "      <th>SHTFLU12M_A</th>\n",
       "      <th>SPOUSAGETC_A</th>\n",
       "      <th>EMPWKHRS2_A</th>\n",
       "      <th>EMPDYSMSS2_A</th>\n",
       "      <th>FAMINCTC_A</th>\n",
       "      <th>HIKIND02_A_2</th>\n",
       "      <th>HIKIND02_A_10</th>\n",
       "      <th>CHDEV_A_2</th>\n",
       "      <th>CHDEV_A_10</th>\n",
       "      <th>...</th>\n",
       "      <th>ANXEV_A_10</th>\n",
       "      <th>RX12M_A_2</th>\n",
       "      <th>RX12M_A_10</th>\n",
       "      <th>ANXFREQ_A_2</th>\n",
       "      <th>ANXFREQ_A_3</th>\n",
       "      <th>ANXFREQ_A_4</th>\n",
       "      <th>ANXFREQ_A_5</th>\n",
       "      <th>ANXFREQ_A_10</th>\n",
       "      <th>HYPMED_A_2.0</th>\n",
       "      <th>HYPMED_A_10.0</th>\n",
       "    </tr>\n",
       "  </thead>\n",
       "  <tbody>\n",
       "    <tr>\n",
       "      <th>0</th>\n",
       "      <td>97</td>\n",
       "      <td>1</td>\n",
       "      <td>4.123980</td>\n",
       "      <td>0.000000</td>\n",
       "      <td>2.113454e-17</td>\n",
       "      <td>-0.235080</td>\n",
       "      <td>1</td>\n",
       "      <td>0</td>\n",
       "      <td>1</td>\n",
       "      <td>0</td>\n",
       "      <td>...</td>\n",
       "      <td>0</td>\n",
       "      <td>0</td>\n",
       "      <td>0</td>\n",
       "      <td>0</td>\n",
       "      <td>0</td>\n",
       "      <td>0</td>\n",
       "      <td>1</td>\n",
       "      <td>0</td>\n",
       "      <td>1</td>\n",
       "      <td>0</td>\n",
       "    </tr>\n",
       "    <tr>\n",
       "      <th>1</th>\n",
       "      <td>28</td>\n",
       "      <td>1</td>\n",
       "      <td>-2.439729</td>\n",
       "      <td>-0.475159</td>\n",
       "      <td>-1.790015e-01</td>\n",
       "      <td>-0.411479</td>\n",
       "      <td>1</td>\n",
       "      <td>0</td>\n",
       "      <td>1</td>\n",
       "      <td>0</td>\n",
       "      <td>...</td>\n",
       "      <td>0</td>\n",
       "      <td>1</td>\n",
       "      <td>0</td>\n",
       "      <td>0</td>\n",
       "      <td>0</td>\n",
       "      <td>1</td>\n",
       "      <td>0</td>\n",
       "      <td>0</td>\n",
       "      <td>1</td>\n",
       "      <td>0</td>\n",
       "    </tr>\n",
       "    <tr>\n",
       "      <th>2</th>\n",
       "      <td>72</td>\n",
       "      <td>0</td>\n",
       "      <td>1.270193</td>\n",
       "      <td>0.000000</td>\n",
       "      <td>2.113454e-17</td>\n",
       "      <td>-0.146880</td>\n",
       "      <td>0</td>\n",
       "      <td>0</td>\n",
       "      <td>1</td>\n",
       "      <td>0</td>\n",
       "      <td>...</td>\n",
       "      <td>0</td>\n",
       "      <td>0</td>\n",
       "      <td>0</td>\n",
       "      <td>0</td>\n",
       "      <td>0</td>\n",
       "      <td>1</td>\n",
       "      <td>0</td>\n",
       "      <td>0</td>\n",
       "      <td>0</td>\n",
       "      <td>0</td>\n",
       "    </tr>\n",
       "    <tr>\n",
       "      <th>3</th>\n",
       "      <td>60</td>\n",
       "      <td>1</td>\n",
       "      <td>0.604310</td>\n",
       "      <td>-0.054320</td>\n",
       "      <td>-1.790015e-01</td>\n",
       "      <td>0.823316</td>\n",
       "      <td>1</td>\n",
       "      <td>0</td>\n",
       "      <td>1</td>\n",
       "      <td>0</td>\n",
       "      <td>...</td>\n",
       "      <td>0</td>\n",
       "      <td>0</td>\n",
       "      <td>0</td>\n",
       "      <td>0</td>\n",
       "      <td>0</td>\n",
       "      <td>0</td>\n",
       "      <td>1</td>\n",
       "      <td>0</td>\n",
       "      <td>0</td>\n",
       "      <td>0</td>\n",
       "    </tr>\n",
       "    <tr>\n",
       "      <th>4</th>\n",
       "      <td>60</td>\n",
       "      <td>0</td>\n",
       "      <td>0.414058</td>\n",
       "      <td>4.827412</td>\n",
       "      <td>-1.790015e-01</td>\n",
       "      <td>-0.764278</td>\n",
       "      <td>1</td>\n",
       "      <td>0</td>\n",
       "      <td>0</td>\n",
       "      <td>0</td>\n",
       "      <td>...</td>\n",
       "      <td>0</td>\n",
       "      <td>0</td>\n",
       "      <td>0</td>\n",
       "      <td>1</td>\n",
       "      <td>0</td>\n",
       "      <td>0</td>\n",
       "      <td>0</td>\n",
       "      <td>0</td>\n",
       "      <td>0</td>\n",
       "      <td>0</td>\n",
       "    </tr>\n",
       "  </tbody>\n",
       "</table>\n",
       "<p>5 rows × 145 columns</p>\n",
       "</div>"
      ],
      "text/plain": [
       "   AGEP_A  SHTFLU12M_A  SPOUSAGETC_A  EMPWKHRS2_A  EMPDYSMSS2_A  FAMINCTC_A  \\\n",
       "0      97            1      4.123980     0.000000  2.113454e-17   -0.235080   \n",
       "1      28            1     -2.439729    -0.475159 -1.790015e-01   -0.411479   \n",
       "2      72            0      1.270193     0.000000  2.113454e-17   -0.146880   \n",
       "3      60            1      0.604310    -0.054320 -1.790015e-01    0.823316   \n",
       "4      60            0      0.414058     4.827412 -1.790015e-01   -0.764278   \n",
       "\n",
       "   HIKIND02_A_2  HIKIND02_A_10  CHDEV_A_2  CHDEV_A_10  ...  ANXEV_A_10  \\\n",
       "0             1              0          1           0  ...           0   \n",
       "1             1              0          1           0  ...           0   \n",
       "2             0              0          1           0  ...           0   \n",
       "3             1              0          1           0  ...           0   \n",
       "4             1              0          0           0  ...           0   \n",
       "\n",
       "   RX12M_A_2  RX12M_A_10  ANXFREQ_A_2  ANXFREQ_A_3  ANXFREQ_A_4  ANXFREQ_A_5  \\\n",
       "0          0           0            0            0            0            1   \n",
       "1          1           0            0            0            1            0   \n",
       "2          0           0            0            0            1            0   \n",
       "3          0           0            0            0            0            1   \n",
       "4          0           0            1            0            0            0   \n",
       "\n",
       "   ANXFREQ_A_10  HYPMED_A_2.0  HYPMED_A_10.0  \n",
       "0             0             1              0  \n",
       "1             0             1              0  \n",
       "2             0             0              0  \n",
       "3             0             0              0  \n",
       "4             0             0              0  \n",
       "\n",
       "[5 rows x 145 columns]"
      ]
     },
     "execution_count": 17,
     "metadata": {},
     "output_type": "execute_result"
    }
   ],
   "source": [
    "ohe_data.head()"
   ]
  },
  {
   "cell_type": "code",
   "execution_count": 18,
   "metadata": {},
   "outputs": [],
   "source": [
    "target = 'SHTFLU12M_A'\n",
    "X = ohe_data.drop(target, axis=1)\n",
    "y = ohe_data[target]"
   ]
  },
  {
   "cell_type": "code",
   "execution_count": 48,
   "metadata": {},
   "outputs": [],
   "source": [
    "from sklearn.model_selection import train_test_split"
   ]
  },
  {
   "cell_type": "code",
   "execution_count": 49,
   "metadata": {},
   "outputs": [],
   "source": [
    "X_train, X_test, y_train, y_test = train_test_split(X, y, test_size=0.20, random_state=123)"
   ]
  },
  {
   "cell_type": "code",
   "execution_count": 78,
   "metadata": {},
   "outputs": [],
   "source": [
    "from sklearn.feature_selection import RFECV\n",
    "from sklearn.tree import DecisionTreeClassifier\n",
    "from sklearn.model_selection import StratifiedKFold"
   ]
  },
  {
   "cell_type": "code",
   "execution_count": 76,
   "metadata": {},
   "outputs": [
    {
     "data": {
      "text/plain": [
       "[0, 0, 4, 14, 24, 34, 44, 54, 64, 74, 84, 94, 104, 114, 124, 134]"
      ]
     },
     "execution_count": 76,
     "metadata": {},
     "output_type": "execute_result"
    }
   ],
   "source": [
    "xrange = []\n",
    "for step in range(len(rfecv.grid_scores_), 0, -1):\n",
    "    xrange.append(max(len(X_train.columns.values)-step*10, 0))\n",
    "    \n",
    "xrange"
   ]
  },
  {
   "cell_type": "markdown",
   "metadata": {},
   "source": [
    "# RFECV Based on Decision Tree "
   ]
  },
  {
   "cell_type": "code",
   "execution_count": 81,
   "metadata": {},
   "outputs": [
    {
     "name": "stdout",
     "output_type": "stream",
     "text": [
      "Optimal number of features : 84\n"
     ]
    },
    {
     "data": {
      "image/png": "[encoded data removed]",
      "text/plain": [
       "<Figure size 432x288 with 1 Axes>"
      ]
     },
     "metadata": {
      "needs_background": "light"
     },
     "output_type": "display_data"
    }
   ],
   "source": [
    "# Create the RFE object and compute a cross-validated score.\n",
    "dtree = DecisionTreeClassifier()\n",
    "# The \"accuracy\" scoring is proportional to the number of correct\n",
    "# classifications\n",
    "rfecv = RFECV(estimator=dtree, step=10, cv=StratifiedKFold(5),\n",
    "              scoring='roc_auc')\n",
    "rfecv.fit(X_train, y_train)\n",
    "\n",
    "print(\"Optimal number of features : %d\" % rfecv.n_features_)\n",
    "\n",
    "# Plot number of features VS. cross-validation scores\n",
    "plt.figure()\n",
    "plt.xlabel(\"Number of Features Selected\")\n",
    "plt.ylabel(\"Cross validation score (nb of correct classifications)\")\n",
    "\n",
    "plt.plot(xrange, rfecv.grid_scores_)\n",
    "plt.show()"
   ]
  },
  {
   "cell_type": "code",
   "execution_count": null,
   "metadata": {},
   "outputs": [],
   "source": []
  },
  {
   "cell_type": "code",
   "execution_count": 39,
   "metadata": {},
   "outputs": [
    {
     "data": {
      "text/plain": [
       "16"
      ]
     },
     "execution_count": 39,
     "metadata": {},
     "output_type": "execute_result"
    }
   ],
   "source": [
    "len(rfecv.grid_scores_)"
   ]
  },
  {
   "cell_type": "code",
   "execution_count": 54,
   "metadata": {},
   "outputs": [
    {
     "data": {
      "text/plain": [
       "array([0.52512286, 0.59537967, 0.59852058, 0.60060354, 0.60436742,\n",
       "       0.6022323 , 0.60171358, 0.59889068, 0.60154781, 0.60129918,\n",
       "       0.60219855, 0.60121564, 0.60371754, 0.603534  , 0.60352001,\n",
       "       0.60386702])"
      ]
     },
     "execution_count": 54,
     "metadata": {},
     "output_type": "execute_result"
    }
   ],
   "source": [
    "rfecv.grid_scores_"
   ]
  },
  {
   "cell_type": "code",
   "execution_count": 41,
   "metadata": {},
   "outputs": [
    {
     "data": {
      "text/plain": [
       "array(['AGEP_A', 'SPOUSAGETC_A', 'EMPWKHRS2_A', 'EMPDYSMSS2_A',\n",
       "       'FAMINCTC_A', 'HIKIND02_A_2', 'CHDEV_A_2', 'CHDEV_A_10',\n",
       "       'DEMENEV_A_2', 'DEMENEV_A_10', 'HICOV_A_2', 'HICOV_A_10',\n",
       "       'USUALPL_A_2', 'INCSSRR_A_1.0', 'INCSSRR_A_2.0', 'INCSSRR_A_7.0',\n",
       "       'INCSSRR_A_9.0', 'PHSTAT_A_2', 'PHSTAT_A_3', 'PHSTAT_A_4',\n",
       "       'PHSTAT_A_5', 'DEPEV_A_2', 'CANEV_A_2',\n",
       "       'EMPDYSMSS2_A - Other/NA_1', 'HIKIND10_A_2', 'RSNHIWANT_A_1.0',\n",
       "       'RSNHIWANT_A_2.0', 'RSNHIWANT_A_10.0', 'HIKIND01_A_2', 'GAD74_A_2',\n",
       "       'GAD74_A_3', 'GAD74_A_4', 'GAD74_A_10', 'LASTDR_A_1', 'LASTDR_A_2',\n",
       "       'LASTDR_A_3', 'LASTDR_A_4', 'LASTDR_A_5', 'LASTDR_A_6',\n",
       "       'LASTDR_A_10', 'RXSK12M_A_1.0', 'RXSK12M_A_2.0', 'RXSK12M_A_10.0',\n",
       "       'BPLAST_A_1', 'BPLAST_A_2', 'BPLAST_A_3', 'BPLAST_A_10',\n",
       "       'SHTPNUEV_A_2', 'SHTPNUEV_A_10', 'ARTHEV_A_2', 'ANGEV_A_2',\n",
       "       'MIEV_A_2', 'STREV_A_2', 'EMPWKHRS2_A - Other/NA_1',\n",
       "       'ASER12M_A_2.0', 'CHLMED_A_2.0', 'visited_doctor_in_12m_1',\n",
       "       'DIBEV_A_2', 'HIKIND04_A_2', 'PAYBLL12M_A_2', 'ASTILL_A_2.0',\n",
       "       'ASTILL_A_10.0', 'SPOUSEDUC_A_2.0', 'SPOUSEDUC_A_3.0',\n",
       "       'SPOUSEDUC_A_4.0', 'SPOUSEDUC_A_5.0', 'SPOUSEDUC_A_6.0',\n",
       "       'SPOUSEDUC_A_7.0', 'SPOUSEDUC_A_8.0', 'SPOUSEDUC_A_9.0',\n",
       "       'SPOUSEDUC_A_10.0', 'SPOUSEDUC_A_11.0', 'SPOUSEDUC_A_97.0',\n",
       "       'SPOUSEDUC_A_99.0', 'ASEV_A_2', 'ORIENT_A_2', 'ORIENT_A_3',\n",
       "       'ORIENT_A_4', 'ORIENT_A_5', 'ORIENT_A_10', 'AFVET_A_2',\n",
       "       'AFVET_A_10', 'HOSPONGT_A_2', 'SMKEV_A_2', 'SMKEV_A_10',\n",
       "       'CHOLLAST_A_1', 'CHOLLAST_A_2', 'CHOLLAST_A_3', 'CHOLLAST_A_4',\n",
       "       'CHOLLAST_A_5', 'CHOLLAST_A_6', 'CHOLLAST_A_10', 'MARITAL_A_2',\n",
       "       'MARITAL_A_3', 'MARITAL_A_10', 'COPDEV_A_2', 'ECIGEV_A_2',\n",
       "       'HOUYRSLIV_A_2', 'HOUYRSLIV_A_3', 'HOUYRSLIV_A_4', 'HOUYRSLIV_A_5',\n",
       "       'HOUYRSLIV_A_7', 'HOUYRSLIV_A_8', 'ASAT12M_A_2.0',\n",
       "       'SPOUSAGETC_A - Other/NA_1', 'dont_want_health_ins_1', 'ANXEV_A_2',\n",
       "       'RX12M_A_2', 'ANXFREQ_A_2', 'ANXFREQ_A_3', 'ANXFREQ_A_4',\n",
       "       'ANXFREQ_A_5', 'ANXFREQ_A_10', 'HYPMED_A_2.0'], dtype=object)"
      ]
     },
     "execution_count": 41,
     "metadata": {},
     "output_type": "execute_result"
    }
   ],
   "source": [
    "X.columns.values[rfecv.support_]"
   ]
  },
  {
   "cell_type": "code",
   "execution_count": 42,
   "metadata": {},
   "outputs": [
    {
     "data": {
      "text/plain": [
       "144"
      ]
     },
     "execution_count": 42,
     "metadata": {},
     "output_type": "execute_result"
    }
   ],
   "source": [
    "len(X.columns)"
   ]
  },
  {
   "cell_type": "code",
   "execution_count": 53,
   "metadata": {},
   "outputs": [
    {
     "data": {
      "text/plain": [
       "16"
      ]
     },
     "execution_count": 53,
     "metadata": {},
     "output_type": "execute_result"
    }
   ],
   "source": [
    "math.ceil((144 - 1) / 10) + 1"
   ]
  },
  {
   "cell_type": "code",
   "execution_count": 44,
   "metadata": {},
   "outputs": [],
   "source": [
    "import math"
   ]
  },
  {
   "cell_type": "code",
   "execution_count": 56,
   "metadata": {
    "scrolled": false
   },
   "outputs": [
    {
     "data": {
      "text/plain": [
       "9.0"
      ]
     },
     "execution_count": 56,
     "metadata": {},
     "output_type": "execute_result"
    }
   ],
   "source": [
    "144/16"
   ]
  },
  {
   "cell_type": "code",
   "execution_count": 58,
   "metadata": {},
   "outputs": [],
   "source": [
    "from sklearn.feature_selection import RFE"
   ]
  },
  {
   "cell_type": "code",
   "execution_count": 83,
   "metadata": {},
   "outputs": [
    {
     "data": {
      "text/plain": [
       "array(['AGEP_A', 'SPOUSAGETC_A', 'EMPWKHRS2_A', 'EMPDYSMSS2_A',\n",
       "       'FAMINCTC_A', 'HIKIND02_A_2', 'CHDEV_A_2', 'HICOV_A_2',\n",
       "       'USUALPL_A_2', 'INCSSRR_A_1.0', 'INCSSRR_A_2.0', 'PHSTAT_A_2',\n",
       "       'PHSTAT_A_3', 'PHSTAT_A_4', 'PHSTAT_A_5', 'DEPEV_A_2', 'CANEV_A_2',\n",
       "       'EMPDYSMSS2_A - Other/NA_1', 'HIKIND10_A_2', 'RSNHIWANT_A_2.0',\n",
       "       'HIKIND01_A_2', 'GAD74_A_2', 'GAD74_A_3', 'GAD74_A_4',\n",
       "       'LASTDR_A_1', 'LASTDR_A_2', 'LASTDR_A_3', 'RXSK12M_A_1.0',\n",
       "       'RXSK12M_A_2.0', 'BPLAST_A_1', 'SHTPNUEV_A_2', 'SHTPNUEV_A_10',\n",
       "       'ARTHEV_A_2', 'MIEV_A_2', 'STREV_A_2', 'EMPWKHRS2_A - Other/NA_1',\n",
       "       'CHLMED_A_2.0', 'visited_doctor_in_12m_1', 'DIBEV_A_2',\n",
       "       'HIKIND04_A_2', 'PAYBLL12M_A_2', 'ASTILL_A_2.0', 'SPOUSEDUC_A_3.0',\n",
       "       'SPOUSEDUC_A_4.0', 'SPOUSEDUC_A_5.0', 'SPOUSEDUC_A_6.0',\n",
       "       'SPOUSEDUC_A_7.0', 'SPOUSEDUC_A_8.0', 'SPOUSEDUC_A_9.0',\n",
       "       'SPOUSEDUC_A_11.0', 'SPOUSEDUC_A_99.0', 'ASEV_A_2', 'ORIENT_A_2',\n",
       "       'ORIENT_A_10', 'AFVET_A_2', 'HOSPONGT_A_2', 'SMKEV_A_2',\n",
       "       'CHOLLAST_A_1', 'CHOLLAST_A_2', 'CHOLLAST_A_3', 'CHOLLAST_A_4',\n",
       "       'CHOLLAST_A_5', 'CHOLLAST_A_10', 'MARITAL_A_2', 'MARITAL_A_3',\n",
       "       'COPDEV_A_2', 'ECIGEV_A_2', 'HOUYRSLIV_A_2', 'HOUYRSLIV_A_3',\n",
       "       'HOUYRSLIV_A_4', 'HOUYRSLIV_A_5', 'ASAT12M_A_2.0',\n",
       "       'SPOUSAGETC_A - Other/NA_1', 'ANXEV_A_2', 'RX12M_A_2',\n",
       "       'ANXFREQ_A_2', 'ANXFREQ_A_3', 'ANXFREQ_A_4', 'ANXFREQ_A_5',\n",
       "       'HYPMED_A_2.0'], dtype=object)"
      ]
     },
     "execution_count": 83,
     "metadata": {},
     "output_type": "execute_result"
    }
   ],
   "source": [
    "# Create the RFE object and rank each pixel\n",
    "rfe = RFE(estimator=dtree, n_features_to_select=80, step=5)\n",
    "rfe.fit(X_train, y_train)\n",
    "top_rfe = rfe.support_\n",
    "\n",
    "X.columns.values[top_rfe]"
   ]
  },
  {
   "cell_type": "markdown",
   "metadata": {},
   "source": [
    "RFE - Which are the top N features?\n",
    "- repeatedly fits model to data, deletes n features with lowest score \n",
    "- stops when desired number of features are left \n",
    "\n",
    "RFECV - How many features, i.e. what is ideal N?\n",
    "- Does RFE to drop n features at each step, calculates cross validation score of model after dropping n features \n",
    "- Highest CV score when features are dropped represents the best n_features"
   ]
  },
  {
   "cell_type": "code",
   "execution_count": 89,
   "metadata": {},
   "outputs": [],
   "source": [
    "X_train_new = X_train[X.columns.values[top_rfe]]\n",
    "X_test_new = X_test[X.columns.values[top_rfe]]"
   ]
  },
  {
   "cell_type": "code",
   "execution_count": 90,
   "metadata": {},
   "outputs": [
    {
     "data": {
      "text/html": [
       "<div>\n",
       "<style scoped>\n",
       "    .dataframe tbody tr th:only-of-type {\n",
       "        vertical-align: middle;\n",
       "    }\n",
       "\n",
       "    .dataframe tbody tr th {\n",
       "        vertical-align: top;\n",
       "    }\n",
       "\n",
       "    .dataframe thead th {\n",
       "        text-align: right;\n",
       "    }\n",
       "</style>\n",
       "<table border=\"1\" class=\"dataframe\">\n",
       "  <thead>\n",
       "    <tr style=\"text-align: right;\">\n",
       "      <th></th>\n",
       "      <th>AGEP_A</th>\n",
       "      <th>SPOUSAGETC_A</th>\n",
       "      <th>EMPWKHRS2_A</th>\n",
       "      <th>EMPDYSMSS2_A</th>\n",
       "      <th>FAMINCTC_A</th>\n",
       "      <th>HIKIND02_A_2</th>\n",
       "      <th>CHDEV_A_2</th>\n",
       "      <th>HICOV_A_2</th>\n",
       "      <th>USUALPL_A_2</th>\n",
       "      <th>INCSSRR_A_1.0</th>\n",
       "      <th>...</th>\n",
       "      <th>HOUYRSLIV_A_5</th>\n",
       "      <th>ASAT12M_A_2.0</th>\n",
       "      <th>SPOUSAGETC_A - Other/NA_1</th>\n",
       "      <th>ANXEV_A_2</th>\n",
       "      <th>RX12M_A_2</th>\n",
       "      <th>ANXFREQ_A_2</th>\n",
       "      <th>ANXFREQ_A_3</th>\n",
       "      <th>ANXFREQ_A_4</th>\n",
       "      <th>ANXFREQ_A_5</th>\n",
       "      <th>HYPMED_A_2.0</th>\n",
       "    </tr>\n",
       "  </thead>\n",
       "  <tbody>\n",
       "    <tr>\n",
       "      <th>20676</th>\n",
       "      <td>62</td>\n",
       "      <td>4.140576e-01</td>\n",
       "      <td>0.787358</td>\n",
       "      <td>-1.433084e-01</td>\n",
       "      <td>-0.411479</td>\n",
       "      <td>1</td>\n",
       "      <td>1</td>\n",
       "      <td>1</td>\n",
       "      <td>0</td>\n",
       "      <td>1</td>\n",
       "      <td>...</td>\n",
       "      <td>0</td>\n",
       "      <td>1</td>\n",
       "      <td>0</td>\n",
       "      <td>1</td>\n",
       "      <td>0</td>\n",
       "      <td>0</td>\n",
       "      <td>0</td>\n",
       "      <td>1</td>\n",
       "      <td>0</td>\n",
       "      <td>0</td>\n",
       "    </tr>\n",
       "    <tr>\n",
       "      <th>14493</th>\n",
       "      <td>52</td>\n",
       "      <td>-6.759123e-16</td>\n",
       "      <td>0.000000</td>\n",
       "      <td>2.113454e-17</td>\n",
       "      <td>-1.081796</td>\n",
       "      <td>0</td>\n",
       "      <td>1</td>\n",
       "      <td>0</td>\n",
       "      <td>1</td>\n",
       "      <td>0</td>\n",
       "      <td>...</td>\n",
       "      <td>0</td>\n",
       "      <td>1</td>\n",
       "      <td>1</td>\n",
       "      <td>0</td>\n",
       "      <td>0</td>\n",
       "      <td>1</td>\n",
       "      <td>0</td>\n",
       "      <td>0</td>\n",
       "      <td>0</td>\n",
       "      <td>1</td>\n",
       "    </tr>\n",
       "    <tr>\n",
       "      <th>14552</th>\n",
       "      <td>54</td>\n",
       "      <td>6.994362e-01</td>\n",
       "      <td>0.000000</td>\n",
       "      <td>-1.790015e-01</td>\n",
       "      <td>0.470517</td>\n",
       "      <td>1</td>\n",
       "      <td>1</td>\n",
       "      <td>0</td>\n",
       "      <td>0</td>\n",
       "      <td>0</td>\n",
       "      <td>...</td>\n",
       "      <td>1</td>\n",
       "      <td>1</td>\n",
       "      <td>0</td>\n",
       "      <td>1</td>\n",
       "      <td>0</td>\n",
       "      <td>0</td>\n",
       "      <td>0</td>\n",
       "      <td>0</td>\n",
       "      <td>1</td>\n",
       "      <td>1</td>\n",
       "    </tr>\n",
       "    <tr>\n",
       "      <th>19088</th>\n",
       "      <td>20</td>\n",
       "      <td>-3.010486e+00</td>\n",
       "      <td>0.000000</td>\n",
       "      <td>-1.790015e-01</td>\n",
       "      <td>0.470517</td>\n",
       "      <td>1</td>\n",
       "      <td>1</td>\n",
       "      <td>0</td>\n",
       "      <td>0</td>\n",
       "      <td>0</td>\n",
       "      <td>...</td>\n",
       "      <td>0</td>\n",
       "      <td>1</td>\n",
       "      <td>0</td>\n",
       "      <td>1</td>\n",
       "      <td>1</td>\n",
       "      <td>0</td>\n",
       "      <td>0</td>\n",
       "      <td>0</td>\n",
       "      <td>1</td>\n",
       "      <td>1</td>\n",
       "    </tr>\n",
       "    <tr>\n",
       "      <th>2961</th>\n",
       "      <td>62</td>\n",
       "      <td>-6.759123e-16</td>\n",
       "      <td>-3.084360</td>\n",
       "      <td>-6.002457e-02</td>\n",
       "      <td>-0.958317</td>\n",
       "      <td>0</td>\n",
       "      <td>1</td>\n",
       "      <td>0</td>\n",
       "      <td>0</td>\n",
       "      <td>1</td>\n",
       "      <td>...</td>\n",
       "      <td>0</td>\n",
       "      <td>1</td>\n",
       "      <td>1</td>\n",
       "      <td>1</td>\n",
       "      <td>1</td>\n",
       "      <td>0</td>\n",
       "      <td>0</td>\n",
       "      <td>1</td>\n",
       "      <td>0</td>\n",
       "      <td>1</td>\n",
       "    </tr>\n",
       "  </tbody>\n",
       "</table>\n",
       "<p>5 rows × 80 columns</p>\n",
       "</div>"
      ],
      "text/plain": [
       "       AGEP_A  SPOUSAGETC_A  EMPWKHRS2_A  EMPDYSMSS2_A  FAMINCTC_A  \\\n",
       "20676      62  4.140576e-01     0.787358 -1.433084e-01   -0.411479   \n",
       "14493      52 -6.759123e-16     0.000000  2.113454e-17   -1.081796   \n",
       "14552      54  6.994362e-01     0.000000 -1.790015e-01    0.470517   \n",
       "19088      20 -3.010486e+00     0.000000 -1.790015e-01    0.470517   \n",
       "2961       62 -6.759123e-16    -3.084360 -6.002457e-02   -0.958317   \n",
       "\n",
       "       HIKIND02_A_2  CHDEV_A_2  HICOV_A_2  USUALPL_A_2  INCSSRR_A_1.0  ...  \\\n",
       "20676             1          1          1            0              1  ...   \n",
       "14493             0          1          0            1              0  ...   \n",
       "14552             1          1          0            0              0  ...   \n",
       "19088             1          1          0            0              0  ...   \n",
       "2961              0          1          0            0              1  ...   \n",
       "\n",
       "       HOUYRSLIV_A_5  ASAT12M_A_2.0  SPOUSAGETC_A - Other/NA_1  ANXEV_A_2  \\\n",
       "20676              0              1                          0          1   \n",
       "14493              0              1                          1          0   \n",
       "14552              1              1                          0          1   \n",
       "19088              0              1                          0          1   \n",
       "2961               0              1                          1          1   \n",
       "\n",
       "       RX12M_A_2  ANXFREQ_A_2  ANXFREQ_A_3  ANXFREQ_A_4  ANXFREQ_A_5  \\\n",
       "20676          0            0            0            1            0   \n",
       "14493          0            1            0            0            0   \n",
       "14552          0            0            0            0            1   \n",
       "19088          1            0            0            0            1   \n",
       "2961           1            0            0            1            0   \n",
       "\n",
       "       HYPMED_A_2.0  \n",
       "20676             0  \n",
       "14493             1  \n",
       "14552             1  \n",
       "19088             1  \n",
       "2961              1  \n",
       "\n",
       "[5 rows x 80 columns]"
      ]
     },
     "execution_count": 90,
     "metadata": {},
     "output_type": "execute_result"
    }
   ],
   "source": [
    "X_train_new.head()"
   ]
  },
  {
   "cell_type": "code",
   "execution_count": 96,
   "metadata": {},
   "outputs": [],
   "source": [
    "from sklearn.metrics import roc_auc_score, roc_curve"
   ]
  },
  {
   "cell_type": "code",
   "execution_count": 98,
   "metadata": {},
   "outputs": [
    {
     "name": "stdout",
     "output_type": "stream",
     "text": [
      "0.6203674701688797\n"
     ]
    }
   ],
   "source": [
    "#Dtree fit on 80 features of 144 - Test AUC score\n",
    "dtree_new = DecisionTreeClassifier()\n",
    "dtree_new.fit(X_train_new, y_train)\n",
    "preds_new = dtree_new.predict_proba(X_test_new)\n",
    "print(roc_auc_score(y_test, preds_new[:, 1]))"
   ]
  },
  {
   "cell_type": "code",
   "execution_count": 99,
   "metadata": {},
   "outputs": [
    {
     "name": "stdout",
     "output_type": "stream",
     "text": [
      "0.6152031138045736\n"
     ]
    }
   ],
   "source": [
    "#Dtree fit on all 144 features - Test AUC score\n",
    "dtree_old = DecisionTreeClassifier()\n",
    "dtree_old.fit(X_train, y_train)\n",
    "preds_old = dtree_old.predict_proba(X_test)\n",
    "print(roc_auc_score(y_test, preds_old[:, 1]))"
   ]
  },
  {
   "cell_type": "code",
   "execution_count": 102,
   "metadata": {},
   "outputs": [],
   "source": [
    "fpr, tpr, thresholds = roc_curve(y_test, preds_new[:,1])"
   ]
  },
  {
   "cell_type": "code",
   "execution_count": 103,
   "metadata": {},
   "outputs": [
    {
     "data": {
      "text/plain": [
       "[<matplotlib.lines.Line2D at 0x1b75d478>]"
      ]
     },
     "execution_count": 103,
     "metadata": {},
     "output_type": "execute_result"
    },
    {
     "data": {
      "image/png": "[encoded data removed]",
      "text/plain": [
       "<Figure size 432x288 with 1 Axes>"
      ]
     },
     "metadata": {
      "needs_background": "light"
     },
     "output_type": "display_data"
    }
   ],
   "source": [
    "plt.plot(fpr, tpr)"
   ]
  },
  {
   "cell_type": "code",
   "execution_count": 104,
   "metadata": {},
   "outputs": [
    {
     "data": {
      "text/plain": [
       "array([0.       , 0.3644015, 1.       ])"
      ]
     },
     "execution_count": 104,
     "metadata": {},
     "output_type": "execute_result"
    }
   ],
   "source": [
    "fpr"
   ]
  },
  {
   "cell_type": "code",
   "execution_count": 105,
   "metadata": {},
   "outputs": [],
   "source": [
    "import scikitplot as skplt"
   ]
  },
  {
   "cell_type": "code",
   "execution_count": 107,
   "metadata": {},
   "outputs": [
    {
     "data": {
      "image/png": "[encoded data removed]",
      "text/plain": [
       "<Figure size 432x288 with 1 Axes>"
      ]
     },
     "metadata": {
      "needs_background": "light"
     },
     "output_type": "display_data"
    }
   ],
   "source": [
    "skplt.metrics.plot_roc(y_test, preds_new)\n",
    "plt.show()"
   ]
  },
  {
   "cell_type": "code",
   "execution_count": null,
   "metadata": {},
   "outputs": [],
   "source": []
  },
  {
   "cell_type": "markdown",
   "metadata": {},
   "source": [
    "# RFECV Based on LogReg"
   ]
  },
  {
   "cell_type": "code",
   "execution_count": 112,
   "metadata": {
    "scrolled": true
   },
   "outputs": [
    {
     "name": "stdout",
     "output_type": "stream",
     "text": [
      "Optimal number of features : 104\n"
     ]
    },
    {
     "data": {
      "image/png": "[encoded data removed]",
      "text/plain": [
       "<Figure size 432x288 with 1 Axes>"
      ]
     },
     "metadata": {
      "needs_background": "light"
     },
     "output_type": "display_data"
    }
   ],
   "source": [
    "# Create the RFE object and compute a cross-validated score.\n",
    "lr = LogisticRegression()\n",
    "# The \"accuracy\" scoring is proportional to the number of correct\n",
    "# classifications\n",
    "rfecv = RFECV(estimator=lr, step=10, cv=StratifiedKFold(5),\n",
    "              scoring='roc_auc')\n",
    "rfecv.fit(X_train, y_train)\n",
    "\n",
    "print(\"Optimal number of features : %d\" % rfecv.n_features_)\n",
    "\n",
    "# Plot number of features VS. cross-validation scores\n",
    "plt.figure()\n",
    "plt.xlabel(\"Number of Features Selected\")\n",
    "plt.ylabel(\"Cross validation score (nb of correct classifications)\")\n",
    "\n",
    "plt.plot(xrange, rfecv.grid_scores_)\n",
    "plt.show()"
   ]
  },
  {
   "cell_type": "code",
   "execution_count": 114,
   "metadata": {
    "scrolled": true
   },
   "outputs": [
    {
     "data": {
      "text/plain": [
       "array(['CHDEV_A_10', 'DEMENEV_A_10', 'HICOV_A_10', 'USUALPL_A_2',\n",
       "       'INCSSRR_A_7.0', 'INCSSRR_A_8.0', 'DEPEV_A_10', 'CANEV_A_10',\n",
       "       'RSNHIWANT_A_1.0', 'RSNHIWANT_A_2.0', 'RSNHIWANT_A_10.0',\n",
       "       'LASTDR_A_5', 'LASTDR_A_6', 'RXSK12M_A_2.0', 'BPLAST_A_1',\n",
       "       'BPLAST_A_3', 'BPLAST_A_4', 'BPLAST_A_6', 'BPLAST_A_10',\n",
       "       'SHTPNUEV_A_2', 'SHTPNUEV_A_10', 'ANGEV_A_10', 'CHLMED_A_2.0',\n",
       "       'CHLMED_A_10.0', 'SPOUSEDUC_A_8.0', 'SPOUSEDUC_A_9.0',\n",
       "       'SPOUSEDUC_A_10.0', 'SPOUSEDUC_A_11.0', 'SPOUSEDUC_A_97.0',\n",
       "       'ORIENT_A_3', 'ORIENT_A_10', 'CHOLLAST_A_1', 'CHOLLAST_A_6',\n",
       "       'MARITAL_A_10', 'ECIGEV_A_2', 'ECIGEV_A_10', 'HOUYRSLIV_A_7',\n",
       "       'ASAT12M_A_10.0', 'dont_want_health_ins_1', 'HYPMED_A_10.0'],\n",
       "      dtype=object)"
      ]
     },
     "execution_count": 114,
     "metadata": {},
     "output_type": "execute_result"
    }
   ],
   "source": [
    "# Create the RFE object and rank each pixel\n",
    "rfe = RFE(estimator=lr, n_features_to_select=40, step=5)\n",
    "rfe.fit(X_train, y_train)\n",
    "top_rfe = rfe.support_\n",
    "\n",
    "X.columns.values[top_rfe]"
   ]
  },
  {
   "cell_type": "code",
   "execution_count": 115,
   "metadata": {},
   "outputs": [],
   "source": [
    "X_train_new = X_train[X.columns.values[top_rfe]]\n",
    "X_test_new = X_test[X.columns.values[top_rfe]]"
   ]
  },
  {
   "cell_type": "code",
   "execution_count": 116,
   "metadata": {},
   "outputs": [
    {
     "name": "stdout",
     "output_type": "stream",
     "text": [
      "0.7566819308070114\n"
     ]
    }
   ],
   "source": [
    "#LR fit on 80 features of 144 - Test AUC score\n",
    "lr_new = LogisticRegression()\n",
    "lr_new.fit(X_train_new, y_train)\n",
    "preds_new = lr_new.predict_proba(X_test_new)\n",
    "print(roc_auc_score(y_test, preds_new[:, 1]))"
   ]
  },
  {
   "cell_type": "code",
   "execution_count": 117,
   "metadata": {},
   "outputs": [
    {
     "name": "stdout",
     "output_type": "stream",
     "text": [
      "0.762368356796612\n"
     ]
    }
   ],
   "source": [
    "#LR fit on all 144 features - Test AUC score\n",
    "lr_old = LogisticRegression()\n",
    "lr_old.fit(X_train, y_train)\n",
    "preds_old = lr_old.predict_proba(X_test)\n",
    "print(roc_auc_score(y_test, preds_old[:, 1]))"
   ]
  },
  {
   "cell_type": "code",
   "execution_count": 118,
   "metadata": {
    "scrolled": true
   },
   "outputs": [
    {
     "data": {
      "image/png": "[encoded data removed]",
      "text/plain": [
       "<Figure size 432x288 with 1 Axes>"
      ]
     },
     "metadata": {
      "needs_background": "light"
     },
     "output_type": "display_data"
    }
   ],
   "source": [
    "skplt.metrics.plot_roc(y_test, preds_new)\n",
    "plt.show()"
   ]
  },
  {
   "cell_type": "code",
   "execution_count": null,
   "metadata": {},
   "outputs": [],
   "source": []
  }
 ],
 "metadata": {
  "kernelspec": {
   "display_name": "Python 3",
   "language": "python",
   "name": "python3"
  },
  "language_info": {
   "codemirror_mode": {
    "name": "ipython",
    "version": 3
   },
   "file_extension": ".py",
   "mimetype": "text/x-python",
   "name": "python",
   "nbconvert_exporter": "python",
   "pygments_lexer": "ipython3",
   "version": "3.8.3"
  }
 },
 "nbformat": 4,
 "nbformat_minor": 4
}
